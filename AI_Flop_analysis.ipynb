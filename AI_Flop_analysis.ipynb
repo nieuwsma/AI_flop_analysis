{
 "cells": [
  {
   "cell_type": "markdown",
   "source": [
    "# Analyzing H100 FLOPs\n",
    "\n",
    "| Form Factor | FP64          | FP64 Tensor Core | FP32          | TF32 Tensor Core | BFLOAT16 Tensor Core | FP16 Tensor Core | FP8 Tensor Core   |\n",
    "|-------------|---------------|------------------|---------------|------------------|----------------------|------------------|-------------------|\n",
    "| H100 SXM    | 34 teraFLOPS  | 67 teraFLOPS     | 67 teraFLOPS  | 989 teraFLOPS   | 1,979 teraFLOPS     | 1,979 teraFLOPS | 3,958 teraFLOPS  |\n",
    "| H100 PCIe   | 26 teraFLOPS  | 51 teraFLOPS     | 51 teraFLOPS  | 756 teraFLOPS   | 1,513 teraFLOPS     | 1,513 teraFLOPS | 3,026 teraFLOPS  |\n",
    "| H100 NVL1   | 68 teraFLOPs  | 134 teraFLOPs    | 134 teraFLOPs | 1,979 teraFLOPS | 3,958 teraFLOPS     | 3,958 teraFLOPS | 7,916 teraFLOPS  |\n",
    "\n",
    "\n",
    "[Datasource](https://www.nvidia.com/en-us/data-center/h100/)\n"
   ],
   "metadata": {
    "collapsed": false
   },
   "id": "51e47835215ae5c1"
  },
  {
   "cell_type": "code",
   "execution_count": 92,
   "outputs": [
    {
     "name": "stdout",
     "output_type": "stream",
     "text": [
      "Requirement already satisfied: pandas in ./myenv/lib/python3.11/site-packages (2.1.3)\r\n",
      "Requirement already satisfied: matplotlib in ./myenv/lib/python3.11/site-packages (3.8.2)\r\n",
      "Requirement already satisfied: numpy<2,>=1.23.2 in ./myenv/lib/python3.11/site-packages (from pandas) (1.26.2)\r\n",
      "Requirement already satisfied: python-dateutil>=2.8.2 in ./myenv/lib/python3.11/site-packages (from pandas) (2.8.2)\r\n",
      "Requirement already satisfied: pytz>=2020.1 in ./myenv/lib/python3.11/site-packages (from pandas) (2023.3.post1)\r\n",
      "Requirement already satisfied: tzdata>=2022.1 in ./myenv/lib/python3.11/site-packages (from pandas) (2023.3)\r\n",
      "Requirement already satisfied: contourpy>=1.0.1 in ./myenv/lib/python3.11/site-packages (from matplotlib) (1.2.0)\r\n",
      "Requirement already satisfied: cycler>=0.10 in ./myenv/lib/python3.11/site-packages (from matplotlib) (0.12.1)\r\n",
      "Requirement already satisfied: fonttools>=4.22.0 in ./myenv/lib/python3.11/site-packages (from matplotlib) (4.46.0)\r\n",
      "Requirement already satisfied: kiwisolver>=1.3.1 in ./myenv/lib/python3.11/site-packages (from matplotlib) (1.4.5)\r\n",
      "Requirement already satisfied: packaging>=20.0 in ./myenv/lib/python3.11/site-packages (from matplotlib) (23.2)\r\n",
      "Requirement already satisfied: pillow>=8 in ./myenv/lib/python3.11/site-packages (from matplotlib) (10.1.0)\r\n",
      "Requirement already satisfied: pyparsing>=2.3.1 in ./myenv/lib/python3.11/site-packages (from matplotlib) (3.1.1)\r\n",
      "Requirement already satisfied: six>=1.5 in ./myenv/lib/python3.11/site-packages (from python-dateutil>=2.8.2->pandas) (1.16.0)\r\n",
      "\r\n",
      "\u001B[1m[\u001B[0m\u001B[34;49mnotice\u001B[0m\u001B[1;39;49m]\u001B[0m\u001B[39;49m A new release of pip is available: \u001B[0m\u001B[31;49m23.2.1\u001B[0m\u001B[39;49m -> \u001B[0m\u001B[32;49m23.3.1\u001B[0m\r\n",
      "\u001B[1m[\u001B[0m\u001B[34;49mnotice\u001B[0m\u001B[1;39;49m]\u001B[0m\u001B[39;49m To update, run: \u001B[0m\u001B[32;49mpip install --upgrade pip\u001B[0m\r\n"
     ]
    }
   ],
   "source": [
    "!pip install pandas matplotlib\n",
    "\n"
   ],
   "metadata": {
    "collapsed": false,
    "ExecuteTime": {
     "end_time": "2023-12-06T18:44:32.291644Z",
     "start_time": "2023-12-06T18:44:31.094653Z"
    }
   },
   "id": "7a7d12ba5bb9babd"
  },
  {
   "cell_type": "code",
   "execution_count": 93,
   "outputs": [],
   "source": [
    "import pandas as pd\n",
    "pd.set_option('display.max_rows', None) #force all rows to print\n",
    "\n",
    "\n",
    "# Hard coded data transposed\n",
    "data = {\n",
    "    \"Form Factor\": [\"H100 SXM\", \"H100 PCIe\", \"H100 NVL1\"],\n",
    "    \"FP64\": [3.4E+13, 2.6E+13, 6.8E+13],\n",
    "    \"FP64 Tensor Core\": [6.7E+13, 5.1E+13, 1.34E+14],\n",
    "    \"FP32\": [6.7E+13, 5.1E+13, 1.34E+14],\n",
    "    \"TF32 Tensor Core\": [9.89E+14, 7.56E+14, 1.979E+15],\n",
    "    \"BFLOAT16 Tensor Core\": [1.979E+15, 1.513E+15, 3.958E+15],\n",
    "    \"FP16 Tensor Core\": [1.979E+15, 1.513E+15, 3.958E+15],\n",
    "    \"FP8 Tensor Core\": [3.958E+15, 3.026E+15, 7.916E+15]\n",
    "}\n",
    "\n",
    "# Convert the dictionary to a DataFrame\n",
    "df = pd.DataFrame(data)\n",
    "\n",
    "# Set the 'Form Factor' column as the index of the dataframe\n",
    "df.set_index(\"Form Factor\", inplace=True)\n"
   ],
   "metadata": {
    "collapsed": false,
    "ExecuteTime": {
     "end_time": "2023-12-06T18:44:32.291903Z",
     "start_time": "2023-12-06T18:44:32.244920Z"
    }
   },
   "id": "c5291b95d9ab1900"
  },
  {
   "cell_type": "markdown",
   "source": [
    "## Raw Data"
   ],
   "metadata": {
    "collapsed": false
   },
   "id": "4a5e4f20290aef3e"
  },
  {
   "cell_type": "code",
   "execution_count": 94,
   "outputs": [
    {
     "data": {
      "text/plain": "                     FP64  FP64 Tensor Core          FP32  TF32 Tensor Core  \\\nForm Factor                                                                   \nH100 SXM     3.400000e+13      6.700000e+13  6.700000e+13      9.890000e+14   \nH100 PCIe    2.600000e+13      5.100000e+13  5.100000e+13      7.560000e+14   \nH100 NVL1    6.800000e+13      1.340000e+14  1.340000e+14      1.979000e+15   \n\n             BFLOAT16 Tensor Core  FP16 Tensor Core  FP8 Tensor Core  \nForm Factor                                                           \nH100 SXM             1.979000e+15      1.979000e+15     3.958000e+15  \nH100 PCIe            1.513000e+15      1.513000e+15     3.026000e+15  \nH100 NVL1            3.958000e+15      3.958000e+15     7.916000e+15  ",
      "text/html": "<div>\n<style scoped>\n    .dataframe tbody tr th:only-of-type {\n        vertical-align: middle;\n    }\n\n    .dataframe tbody tr th {\n        vertical-align: top;\n    }\n\n    .dataframe thead th {\n        text-align: right;\n    }\n</style>\n<table border=\"1\" class=\"dataframe\">\n  <thead>\n    <tr style=\"text-align: right;\">\n      <th></th>\n      <th>FP64</th>\n      <th>FP64 Tensor Core</th>\n      <th>FP32</th>\n      <th>TF32 Tensor Core</th>\n      <th>BFLOAT16 Tensor Core</th>\n      <th>FP16 Tensor Core</th>\n      <th>FP8 Tensor Core</th>\n    </tr>\n    <tr>\n      <th>Form Factor</th>\n      <th></th>\n      <th></th>\n      <th></th>\n      <th></th>\n      <th></th>\n      <th></th>\n      <th></th>\n    </tr>\n  </thead>\n  <tbody>\n    <tr>\n      <th>H100 SXM</th>\n      <td>3.400000e+13</td>\n      <td>6.700000e+13</td>\n      <td>6.700000e+13</td>\n      <td>9.890000e+14</td>\n      <td>1.979000e+15</td>\n      <td>1.979000e+15</td>\n      <td>3.958000e+15</td>\n    </tr>\n    <tr>\n      <th>H100 PCIe</th>\n      <td>2.600000e+13</td>\n      <td>5.100000e+13</td>\n      <td>5.100000e+13</td>\n      <td>7.560000e+14</td>\n      <td>1.513000e+15</td>\n      <td>1.513000e+15</td>\n      <td>3.026000e+15</td>\n    </tr>\n    <tr>\n      <th>H100 NVL1</th>\n      <td>6.800000e+13</td>\n      <td>1.340000e+14</td>\n      <td>1.340000e+14</td>\n      <td>1.979000e+15</td>\n      <td>3.958000e+15</td>\n      <td>3.958000e+15</td>\n      <td>7.916000e+15</td>\n    </tr>\n  </tbody>\n</table>\n</div>"
     },
     "execution_count": 94,
     "metadata": {},
     "output_type": "execute_result"
    }
   ],
   "source": [
    "# Display the DataFrame\n",
    "df"
   ],
   "metadata": {
    "collapsed": false,
    "ExecuteTime": {
     "end_time": "2023-12-06T18:44:32.292204Z",
     "start_time": "2023-12-06T18:44:32.252577Z"
    }
   },
   "id": "a6780df716d85ba3"
  },
  {
   "cell_type": "markdown",
   "source": [
    "# What questions do I want to ask of the data?\n",
    "* how many operations can a single GPU do in a year?\n",
    "* what percentage of threshold can a single GPU do in a year?\n",
    "* knowing the target of 10^26, how many GPUs does it take to do it in a year?\n",
    "* How quickly (days) can we get there with 512 GPUs? 2k GPUs? 10K GPUs?"
   ],
   "metadata": {
    "collapsed": false
   },
   "id": "33bb49284ee77bfb"
  },
  {
   "cell_type": "code",
   "execution_count": 95,
   "outputs": [],
   "source": [
    "# computation limit \n",
    "threshold_operations_sum = 10**26\n",
    "# Calculate the number of seconds in a year\n",
    "seconds_in_year = 365 * 24 * 60 * 60\n",
    "\n",
    "seconds_in_hour = 60 * 60\n",
    "\n",
    "seconds_in_day = 60 * 60 * 24"
   ],
   "metadata": {
    "collapsed": false,
    "ExecuteTime": {
     "end_time": "2023-12-06T18:44:32.292258Z",
     "start_time": "2023-12-06T18:44:32.255858Z"
    }
   },
   "id": "ffd2770ca8dde0d7"
  },
  {
   "cell_type": "markdown",
   "source": [
    "## how many operations can a single GPU do in a year?\n"
   ],
   "metadata": {
    "collapsed": false
   },
   "id": "4aea7d702c30b094"
  },
  {
   "cell_type": "code",
   "execution_count": 96,
   "outputs": [
    {
     "data": {
      "text/plain": "                     FP64  FP64 Tensor Core          FP32  TF32 Tensor Core  \\\nForm Factor                                                                   \nH100 SXM     1.072224e+21      2.112912e+21  2.112912e+21      3.118910e+22   \nH100 PCIe    8.199360e+20      1.608336e+21  1.608336e+21      2.384122e+22   \nH100 NVL1    2.144448e+21      4.225824e+21  4.225824e+21      6.240974e+22   \n\n             BFLOAT16 Tensor Core  FP16 Tensor Core  FP8 Tensor Core  \nForm Factor                                                           \nH100 SXM             6.240974e+22      6.240974e+22     1.248195e+23  \nH100 PCIe            4.771397e+22      4.771397e+22     9.542794e+22  \nH100 NVL1            1.248195e+23      1.248195e+23     2.496390e+23  ",
      "text/html": "<div>\n<style scoped>\n    .dataframe tbody tr th:only-of-type {\n        vertical-align: middle;\n    }\n\n    .dataframe tbody tr th {\n        vertical-align: top;\n    }\n\n    .dataframe thead th {\n        text-align: right;\n    }\n</style>\n<table border=\"1\" class=\"dataframe\">\n  <thead>\n    <tr style=\"text-align: right;\">\n      <th></th>\n      <th>FP64</th>\n      <th>FP64 Tensor Core</th>\n      <th>FP32</th>\n      <th>TF32 Tensor Core</th>\n      <th>BFLOAT16 Tensor Core</th>\n      <th>FP16 Tensor Core</th>\n      <th>FP8 Tensor Core</th>\n    </tr>\n    <tr>\n      <th>Form Factor</th>\n      <th></th>\n      <th></th>\n      <th></th>\n      <th></th>\n      <th></th>\n      <th></th>\n      <th></th>\n    </tr>\n  </thead>\n  <tbody>\n    <tr>\n      <th>H100 SXM</th>\n      <td>1.072224e+21</td>\n      <td>2.112912e+21</td>\n      <td>2.112912e+21</td>\n      <td>3.118910e+22</td>\n      <td>6.240974e+22</td>\n      <td>6.240974e+22</td>\n      <td>1.248195e+23</td>\n    </tr>\n    <tr>\n      <th>H100 PCIe</th>\n      <td>8.199360e+20</td>\n      <td>1.608336e+21</td>\n      <td>1.608336e+21</td>\n      <td>2.384122e+22</td>\n      <td>4.771397e+22</td>\n      <td>4.771397e+22</td>\n      <td>9.542794e+22</td>\n    </tr>\n    <tr>\n      <th>H100 NVL1</th>\n      <td>2.144448e+21</td>\n      <td>4.225824e+21</td>\n      <td>4.225824e+21</td>\n      <td>6.240974e+22</td>\n      <td>1.248195e+23</td>\n      <td>1.248195e+23</td>\n      <td>2.496390e+23</td>\n    </tr>\n  </tbody>\n</table>\n</div>"
     },
     "execution_count": 96,
     "metadata": {},
     "output_type": "execute_result"
    }
   ],
   "source": [
    "\n",
    "# Perform the calculation across the entire DataFrame to find the percentage of the threshold\n",
    "operations_in_one_year = ((df * seconds_in_year))\n",
    "\n",
    "operations_in_one_year  "
   ],
   "metadata": {
    "collapsed": false,
    "ExecuteTime": {
     "end_time": "2023-12-06T18:44:32.292406Z",
     "start_time": "2023-12-06T18:44:32.276237Z"
    }
   },
   "id": "d16659bba7844c27"
  },
  {
   "cell_type": "markdown",
   "source": [
    "## what percentage of threshold can a single GPU do in a year?\n"
   ],
   "metadata": {
    "collapsed": false
   },
   "id": "6beb8677f7a9a160"
  },
  {
   "cell_type": "code",
   "execution_count": 97,
   "outputs": [
    {
     "data": {
      "text/plain": "              FP64 FP64 Tensor Core   FP32 TF32 Tensor Core  \\\nForm Factor                                                   \nH100 SXM     0.00%            0.00%  0.00%            0.03%   \nH100 PCIe    0.00%            0.00%  0.00%            0.02%   \nH100 NVL1    0.00%            0.00%  0.00%            0.06%   \n\n            BFLOAT16 Tensor Core FP16 Tensor Core FP8 Tensor Core  \nForm Factor                                                        \nH100 SXM                   0.06%            0.06%           0.12%  \nH100 PCIe                  0.05%            0.05%           0.10%  \nH100 NVL1                  0.12%            0.12%           0.25%  ",
      "text/html": "<div>\n<style scoped>\n    .dataframe tbody tr th:only-of-type {\n        vertical-align: middle;\n    }\n\n    .dataframe tbody tr th {\n        vertical-align: top;\n    }\n\n    .dataframe thead th {\n        text-align: right;\n    }\n</style>\n<table border=\"1\" class=\"dataframe\">\n  <thead>\n    <tr style=\"text-align: right;\">\n      <th></th>\n      <th>FP64</th>\n      <th>FP64 Tensor Core</th>\n      <th>FP32</th>\n      <th>TF32 Tensor Core</th>\n      <th>BFLOAT16 Tensor Core</th>\n      <th>FP16 Tensor Core</th>\n      <th>FP8 Tensor Core</th>\n    </tr>\n    <tr>\n      <th>Form Factor</th>\n      <th></th>\n      <th></th>\n      <th></th>\n      <th></th>\n      <th></th>\n      <th></th>\n      <th></th>\n    </tr>\n  </thead>\n  <tbody>\n    <tr>\n      <th>H100 SXM</th>\n      <td>0.00%</td>\n      <td>0.00%</td>\n      <td>0.00%</td>\n      <td>0.03%</td>\n      <td>0.06%</td>\n      <td>0.06%</td>\n      <td>0.12%</td>\n    </tr>\n    <tr>\n      <th>H100 PCIe</th>\n      <td>0.00%</td>\n      <td>0.00%</td>\n      <td>0.00%</td>\n      <td>0.02%</td>\n      <td>0.05%</td>\n      <td>0.05%</td>\n      <td>0.10%</td>\n    </tr>\n    <tr>\n      <th>H100 NVL1</th>\n      <td>0.00%</td>\n      <td>0.00%</td>\n      <td>0.00%</td>\n      <td>0.06%</td>\n      <td>0.12%</td>\n      <td>0.12%</td>\n      <td>0.25%</td>\n    </tr>\n  </tbody>\n</table>\n</div>"
     },
     "execution_count": 97,
     "metadata": {},
     "output_type": "execute_result"
    }
   ],
   "source": [
    "# Perform the calculation across the entire DataFrame to find the percentage of the threshold\n",
    "percentage_of_threshold_accomplished_in_one_year = ((df * seconds_in_year) / threshold_operations_sum) * 100\n",
    "\n",
    "# Format the DataFrame to show percentages nicely\n",
    "formatted_percentage_df = percentage_of_threshold_accomplished_in_one_year.map(lambda x: \"{:.2f}%\".format(x))\n",
    "\n",
    "formatted_percentage_df  # This will print the DataFrame with the formatted percentages"
   ],
   "metadata": {
    "collapsed": false,
    "ExecuteTime": {
     "end_time": "2023-12-06T18:44:32.292550Z",
     "start_time": "2023-12-06T18:44:32.281240Z"
    }
   },
   "id": "5afa355709618ae7"
  },
  {
   "cell_type": "markdown",
   "source": [
    "## knowing the target of 10^26, how many GPUs does it take to do it in a year?\n"
   ],
   "metadata": {
    "collapsed": false
   },
   "id": "a4cca8c68fe63809"
  },
  {
   "cell_type": "code",
   "execution_count": 98,
   "outputs": [
    {
     "data": {
      "text/plain": "                      FP64 FP64 Tensor Core          FP32 TF32 Tensor Core  \\\nForm Factor                                                                  \nH100 SXM       93264.09407     47328.047737  47328.047737      3206.247926   \nH100 PCIe    121960.738399     62176.062713  62176.062713      4194.416929   \nH100 NVL1     46632.047035     23664.023868  23664.023868      1602.313895   \n\n            BFLOAT16 Tensor Core FP16 Tensor Core FP8 Tensor Core  \nForm Factor                                                        \nH100 SXM             1602.313895      1602.313895      801.156948  \nH100 PCIe            2095.822339      2095.822339     1047.911169  \nH100 NVL1             801.156948       801.156948      400.578474  ",
      "text/html": "<div>\n<style scoped>\n    .dataframe tbody tr th:only-of-type {\n        vertical-align: middle;\n    }\n\n    .dataframe tbody tr th {\n        vertical-align: top;\n    }\n\n    .dataframe thead th {\n        text-align: right;\n    }\n</style>\n<table border=\"1\" class=\"dataframe\">\n  <thead>\n    <tr style=\"text-align: right;\">\n      <th></th>\n      <th>FP64</th>\n      <th>FP64 Tensor Core</th>\n      <th>FP32</th>\n      <th>TF32 Tensor Core</th>\n      <th>BFLOAT16 Tensor Core</th>\n      <th>FP16 Tensor Core</th>\n      <th>FP8 Tensor Core</th>\n    </tr>\n    <tr>\n      <th>Form Factor</th>\n      <th></th>\n      <th></th>\n      <th></th>\n      <th></th>\n      <th></th>\n      <th></th>\n      <th></th>\n    </tr>\n  </thead>\n  <tbody>\n    <tr>\n      <th>H100 SXM</th>\n      <td>93264.09407</td>\n      <td>47328.047737</td>\n      <td>47328.047737</td>\n      <td>3206.247926</td>\n      <td>1602.313895</td>\n      <td>1602.313895</td>\n      <td>801.156948</td>\n    </tr>\n    <tr>\n      <th>H100 PCIe</th>\n      <td>121960.738399</td>\n      <td>62176.062713</td>\n      <td>62176.062713</td>\n      <td>4194.416929</td>\n      <td>2095.822339</td>\n      <td>2095.822339</td>\n      <td>1047.911169</td>\n    </tr>\n    <tr>\n      <th>H100 NVL1</th>\n      <td>46632.047035</td>\n      <td>23664.023868</td>\n      <td>23664.023868</td>\n      <td>1602.313895</td>\n      <td>801.156948</td>\n      <td>801.156948</td>\n      <td>400.578474</td>\n    </tr>\n  </tbody>\n</table>\n</div>"
     },
     "execution_count": 98,
     "metadata": {},
     "output_type": "execute_result"
    }
   ],
   "source": [
    "needed_GPU_quantity_to_meet_threshold_in_one_year = 100 / percentage_of_threshold_accomplished_in_one_year \n",
    "needed_GPU_quantity_to_meet_threshold_in_one_year"
   ],
   "metadata": {
    "collapsed": false,
    "ExecuteTime": {
     "end_time": "2023-12-06T18:44:32.294230Z",
     "start_time": "2023-12-06T18:44:32.287591Z"
    }
   },
   "id": "8c8ace19e26ec91f"
  },
  {
   "cell_type": "markdown",
   "source": [
    "## How quickly (days) can we get there with 512 GPUs? 2k GPUs? 10K GPUs?"
   ],
   "metadata": {
    "collapsed": false
   },
   "id": "ee3725f6c103307f"
  },
  {
   "cell_type": "code",
   "execution_count": 99,
   "outputs": [],
   "source": [
    "days_to_solution_by_size = pd.DataFrame()\n",
    "cluster_size = 256\n",
    "\n",
    "while cluster_size < 10000:\n",
    "    operations_in_one_day = ((df * seconds_in_day)) \n",
    "    cluster_operations_per_day = operations_in_one_day * cluster_size\n",
    "    days_to_solution = threshold_operations_sum / cluster_operations_per_day\n",
    "    days_to_solution['Cluster_Size'] = cluster_size\n",
    "    \n",
    "\n",
    "    # Append this iteration's DataFrame to the results DataFrame\n",
    "    days_to_solution_by_size = pd.concat([days_to_solution_by_size, days_to_solution])\n",
    "\n",
    "\n",
    "    cluster_size*=2\n"
   ],
   "metadata": {
    "collapsed": false,
    "ExecuteTime": {
     "end_time": "2023-12-06T18:44:32.470938Z",
     "start_time": "2023-12-06T18:44:32.294989Z"
    }
   },
   "id": "fdc0b5554c1d3346"
  },
  {
   "cell_type": "code",
   "execution_count": 100,
   "outputs": [
    {
     "data": {
      "text/plain": "<Figure size 1000x600 with 1 Axes>",
      "image/png": "[encoded data removed]"
     },
     "metadata": {},
     "output_type": "display_data"
    }
   ],
   "source": [
    "import matplotlib.pyplot as plt\n",
    "\n",
    "\n",
    "# Filter the DataFrame for 'H100 SXM' index\n",
    "subset_df = days_to_solution_by_size.loc['H100 SXM']\n",
    "\n",
    "# Set 'Cluster_Size' as the index\n",
    "subset_df.set_index('Cluster_Size', inplace=True)\n",
    "\n",
    "# Create a bar graph\n",
    "ax = subset_df[['FP8 Tensor Core', 'FP16 Tensor Core']].plot(kind='bar', figsize=(10, 6), legend=False)\n",
    "plt.xlabel('Cluster Size (count of GPUs)')\n",
    "plt.ylabel('Days')\n",
    "plt.title('Nvidia H100 SXM, Days to hit 10^26 threshold')\n",
    "plt.xticks(rotation=0)\n",
    "\n",
    "# Add value labels on top of the bars\n",
    "for p in ax.patches:\n",
    "    ax.annotate(f'{p.get_height():.2f}', (p.get_x() + p.get_width() / 2., p.get_height()),\n",
    "                ha='center', va='center', fontsize=10, color='black', xytext=(0, 5),\n",
    "                textcoords='offset points')\n",
    "plt.legend(['FP8 Tensor Core', 'FP16 Tensor Core'])\n",
    "\n",
    "plt.show()"
   ],
   "metadata": {
    "collapsed": false,
    "ExecuteTime": {
     "end_time": "2023-12-06T18:44:32.619945Z",
     "start_time": "2023-12-06T18:44:32.302891Z"
    }
   },
   "id": "5190df10c81d0906"
  }
 ],
 "metadata": {
  "kernelspec": {
   "display_name": "Python 3",
   "language": "python",
   "name": "python3"
  },
  "language_info": {
   "codemirror_mode": {
    "name": "ipython",
    "version": 2
   },
   "file_extension": ".py",
   "mimetype": "text/x-python",
   "name": "python",
   "nbconvert_exporter": "python",
   "pygments_lexer": "ipython2",
   "version": "2.7.6"
  }
 },
 "nbformat": 4,
 "nbformat_minor": 5
}
